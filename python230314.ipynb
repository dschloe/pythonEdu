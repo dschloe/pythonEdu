{
  "nbformat": 4,
  "nbformat_minor": 0,
  "metadata": {
    "colab": {
      "provenance": []
    },
    "kernelspec": {
      "name": "python3",
      "display_name": "Python 3"
    },
    "language_info": {
      "name": "python"
    }
  },
  "cells": [
    {
      "cell_type": "markdown",
      "source": [
        "# 대분류"
      ],
      "metadata": {
        "id": "S8lgSIyfHGBE"
      }
    },
    {
      "cell_type": "markdown",
      "source": [
        "## 자기소개\n",
        "- 이름, 과거직장경력, 이 과정 이수 후 어디로 취업 희망\n",
        "-- 개발자 / 분석가"
      ],
      "metadata": {
        "id": "JLvrNC28GeTJ"
      }
    },
    {
      "cell_type": "code",
      "source": [
        "1+1"
      ],
      "metadata": {
        "colab": {
          "base_uri": "https://localhost:8080/"
        },
        "id": "f1Yjr5_1HRxD",
        "outputId": "96de417e-a781-450b-ae8e-90bb82bfe7c7"
      },
      "execution_count": 1,
      "outputs": [
        {
          "output_type": "execute_result",
          "data": {
            "text/plain": [
              "2"
            ]
          },
          "metadata": {},
          "execution_count": 1
        }
      ]
    },
    {
      "cell_type": "code",
      "execution_count": 2,
      "metadata": {
        "colab": {
          "base_uri": "https://localhost:8080/"
        },
        "id": "4v1829k4F__z",
        "outputId": "495b664f-e2c1-4e64-d6bd-264fd01edf1f"
      },
      "outputs": [
        {
          "output_type": "stream",
          "name": "stdout",
          "text": [
            "Hello World\n"
          ]
        }
      ],
      "source": [
        "print(\"Hello World\")\n",
        "\n",
        "public static ~~~ (){\n",
        "    systeml.ln.(\"Hello World\");\n",
        "}"
      ]
    },
    {
      "cell_type": "markdown",
      "source": [
        "## 파이선 기초\n",
        "- 어마ㅓ라ㅣㅓㅏㅇ머"
      ],
      "metadata": {
        "id": "oKi98HxLGzEf"
      }
    },
    {
      "cell_type": "markdown",
      "source": [
        "### 기초문법\n",
        "- ㅇㅁ러ㅏ이ㅓㅣㅓ"
      ],
      "metadata": {
        "id": "YRTcJDFfG79h"
      }
    },
    {
      "cell_type": "markdown",
      "source": [
        "### 판다스 문법\n",
        "- 어ㅏㅣ러마ㅓ리ㅏ어"
      ],
      "metadata": {
        "id": "AZGHuls6G_0j"
      }
    },
    {
      "cell_type": "markdown",
      "source": [
        "# 대분류2"
      ],
      "metadata": {
        "id": "JMEK_JPbHI58"
      }
    }
  ]
}